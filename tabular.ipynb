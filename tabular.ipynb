{
 "cells": [
  {
   "cell_type": "code",
   "execution_count": 1,
   "id": "d0fbb9a6",
   "metadata": {},
   "outputs": [
    {
     "name": "stderr",
     "output_type": "stream",
     "text": [
      "C:\\Users\\DELL\\anaconda3\\Lib\\site-packages\\paramiko\\transport.py:219: CryptographyDeprecationWarning: Blowfish has been deprecated\n",
      "  \"class\": algorithms.Blowfish,\n"
     ]
    }
   ],
   "source": [
    "import os\n",
    "from skimage.io import imread\n",
    "from skimage.transform import resize "
   ]
  },
  {
   "cell_type": "code",
   "execution_count": 2,
   "id": "222b5257",
   "metadata": {},
   "outputs": [],
   "source": [
    "import numpy as np\n",
    "import pandas as pd\n",
    "from sklearn import preprocessing\n",
    "import matplotlib.pyplot as plt"
   ]
  },
  {
   "cell_type": "code",
   "execution_count": 3,
   "id": "05dcf4de",
   "metadata": {},
   "outputs": [],
   "source": [
    "input_dir = r'D:\\Machine Learning\\malimg\\malimg2022\\train'\n",
    "categories = ['Adialer.C','Agent.FYI','Allaple.A','Allaple.L','Alueron.gen!J','Autorun.K','C2LOP.gen!g','C2LOP.P','Dialplatform.B','Dontovo.A','Fakerean','Instantaccess','Lolyda.AA1','Lolyda.AA2','Lolyda.AA3','Lolyda.AT','Malex.gen!J','Obfuscator.AD','Rbot!gen','Skintrim.N','Swizzor.gen!E','Swizzor.gen!I','VB.AT','Wintrim.BX','Yuner.A']"
   ]
  },
  {
   "cell_type": "code",
   "execution_count": 4,
   "id": "8535d1a1",
   "metadata": {},
   "outputs": [],
   "source": [
    "input_val_dir = r'D:\\Machine Learning\\malimg\\malimg2022\\val'"
   ]
  },
  {
   "cell_type": "code",
   "execution_count": 5,
   "id": "e83689fc",
   "metadata": {},
   "outputs": [],
   "source": [
    "X_train = []\n",
    "y_train = []\n",
    "\n",
    "for category_idx, category in enumerate(categories):\n",
    "    for file in os.listdir(os.path.join(input_dir,category)):\n",
    "        img_path = os.path.join(input_dir,category,file)\n",
    "        img = imread(img_path)\n",
    "        img = resize(img,(256,256,3))\n",
    "        X_train.append(img.flatten())\n",
    "        y_train.append(category_idx)\n",
    "        \n",
    "X_train = np.asarray(X_train)\n",
    "y_train= np.asarray(y_train)"
   ]
  },
  {
   "cell_type": "code",
   "execution_count": 6,
   "id": "22feb66f",
   "metadata": {},
   "outputs": [],
   "source": [
    "X_test = []\n",
    "y_test = []\n",
    "\n",
    "for category_idx, category in enumerate(categories):\n",
    "    for file in os.listdir(os.path.join(input_val_dir,category)):\n",
    "        img_path = os.path.join(input_val_dir,category,file)\n",
    "        img = imread(img_path)\n",
    "        img = resize(img,(256,256,3))\n",
    "        X_test.append(img.flatten())\n",
    "        y_test.append(category_idx)\n",
    "        \n",
    "X_test = np.asarray(X_test)\n",
    "y_test = np.asarray(y_test)"
   ]
  },
  {
   "cell_type": "code",
   "execution_count": 7,
   "id": "326877f2",
   "metadata": {},
   "outputs": [],
   "source": [
    "x_train = pd.DataFrame(X_train)"
   ]
  },
  {
   "cell_type": "code",
   "execution_count": 8,
   "id": "8c81c998",
   "metadata": {},
   "outputs": [
    {
     "data": {
      "text/html": [
       "<div>\n",
       "<style scoped>\n",
       "    .dataframe tbody tr th:only-of-type {\n",
       "        vertical-align: middle;\n",
       "    }\n",
       "\n",
       "    .dataframe tbody tr th {\n",
       "        vertical-align: top;\n",
       "    }\n",
       "\n",
       "    .dataframe thead th {\n",
       "        text-align: right;\n",
       "    }\n",
       "</style>\n",
       "<table border=\"1\" class=\"dataframe\">\n",
       "  <thead>\n",
       "    <tr style=\"text-align: right;\">\n",
       "      <th></th>\n",
       "      <th>0</th>\n",
       "      <th>1</th>\n",
       "      <th>2</th>\n",
       "      <th>3</th>\n",
       "      <th>4</th>\n",
       "      <th>5</th>\n",
       "      <th>6</th>\n",
       "      <th>7</th>\n",
       "      <th>8</th>\n",
       "      <th>9</th>\n",
       "      <th>...</th>\n",
       "      <th>196598</th>\n",
       "      <th>196599</th>\n",
       "      <th>196600</th>\n",
       "      <th>196601</th>\n",
       "      <th>196602</th>\n",
       "      <th>196603</th>\n",
       "      <th>196604</th>\n",
       "      <th>196605</th>\n",
       "      <th>196606</th>\n",
       "      <th>196607</th>\n",
       "    </tr>\n",
       "  </thead>\n",
       "  <tbody>\n",
       "    <tr>\n",
       "      <th>10522</th>\n",
       "      <td>0.690196</td>\n",
       "      <td>0.690196</td>\n",
       "      <td>0.690196</td>\n",
       "      <td>0.690196</td>\n",
       "      <td>0.690196</td>\n",
       "      <td>0.690196</td>\n",
       "      <td>0.690196</td>\n",
       "      <td>0.690196</td>\n",
       "      <td>0.690196</td>\n",
       "      <td>0.690196</td>\n",
       "      <td>...</td>\n",
       "      <td>0.363971</td>\n",
       "      <td>0.385049</td>\n",
       "      <td>0.385049</td>\n",
       "      <td>0.385049</td>\n",
       "      <td>0.385049</td>\n",
       "      <td>0.385049</td>\n",
       "      <td>0.385049</td>\n",
       "      <td>0.363971</td>\n",
       "      <td>0.363971</td>\n",
       "      <td>0.363971</td>\n",
       "    </tr>\n",
       "    <tr>\n",
       "      <th>4087</th>\n",
       "      <td>0.289767</td>\n",
       "      <td>0.289767</td>\n",
       "      <td>0.289767</td>\n",
       "      <td>0.281556</td>\n",
       "      <td>0.281556</td>\n",
       "      <td>0.281556</td>\n",
       "      <td>0.281556</td>\n",
       "      <td>0.281556</td>\n",
       "      <td>0.281556</td>\n",
       "      <td>0.289767</td>\n",
       "      <td>...</td>\n",
       "      <td>0.115809</td>\n",
       "      <td>0.106250</td>\n",
       "      <td>0.106250</td>\n",
       "      <td>0.106250</td>\n",
       "      <td>0.106250</td>\n",
       "      <td>0.106250</td>\n",
       "      <td>0.106250</td>\n",
       "      <td>0.115809</td>\n",
       "      <td>0.115809</td>\n",
       "      <td>0.115809</td>\n",
       "    </tr>\n",
       "    <tr>\n",
       "      <th>4665</th>\n",
       "      <td>0.500980</td>\n",
       "      <td>0.500980</td>\n",
       "      <td>0.500980</td>\n",
       "      <td>0.436275</td>\n",
       "      <td>0.436275</td>\n",
       "      <td>0.436275</td>\n",
       "      <td>0.436275</td>\n",
       "      <td>0.436275</td>\n",
       "      <td>0.436275</td>\n",
       "      <td>0.500980</td>\n",
       "      <td>...</td>\n",
       "      <td>0.540196</td>\n",
       "      <td>0.540196</td>\n",
       "      <td>0.540196</td>\n",
       "      <td>0.540196</td>\n",
       "      <td>0.540196</td>\n",
       "      <td>0.540196</td>\n",
       "      <td>0.540196</td>\n",
       "      <td>0.540196</td>\n",
       "      <td>0.540196</td>\n",
       "      <td>0.540196</td>\n",
       "    </tr>\n",
       "    <tr>\n",
       "      <th>12221</th>\n",
       "      <td>0.154044</td>\n",
       "      <td>0.154044</td>\n",
       "      <td>0.154044</td>\n",
       "      <td>0.173897</td>\n",
       "      <td>0.173897</td>\n",
       "      <td>0.173897</td>\n",
       "      <td>0.173897</td>\n",
       "      <td>0.173897</td>\n",
       "      <td>0.173897</td>\n",
       "      <td>0.154044</td>\n",
       "      <td>...</td>\n",
       "      <td>0.752267</td>\n",
       "      <td>0.743566</td>\n",
       "      <td>0.743566</td>\n",
       "      <td>0.743566</td>\n",
       "      <td>0.743566</td>\n",
       "      <td>0.743566</td>\n",
       "      <td>0.743566</td>\n",
       "      <td>0.752267</td>\n",
       "      <td>0.752267</td>\n",
       "      <td>0.752267</td>\n",
       "    </tr>\n",
       "    <tr>\n",
       "      <th>4385</th>\n",
       "      <td>0.129963</td>\n",
       "      <td>0.129963</td>\n",
       "      <td>0.129963</td>\n",
       "      <td>0.094301</td>\n",
       "      <td>0.094301</td>\n",
       "      <td>0.094301</td>\n",
       "      <td>0.094301</td>\n",
       "      <td>0.094301</td>\n",
       "      <td>0.094301</td>\n",
       "      <td>0.129963</td>\n",
       "      <td>...</td>\n",
       "      <td>0.222120</td>\n",
       "      <td>0.208027</td>\n",
       "      <td>0.208027</td>\n",
       "      <td>0.208027</td>\n",
       "      <td>0.208027</td>\n",
       "      <td>0.208027</td>\n",
       "      <td>0.208027</td>\n",
       "      <td>0.222120</td>\n",
       "      <td>0.222120</td>\n",
       "      <td>0.222120</td>\n",
       "    </tr>\n",
       "    <tr>\n",
       "      <th>6809</th>\n",
       "      <td>0.721078</td>\n",
       "      <td>0.721078</td>\n",
       "      <td>0.721078</td>\n",
       "      <td>0.721078</td>\n",
       "      <td>0.721078</td>\n",
       "      <td>0.721078</td>\n",
       "      <td>0.721078</td>\n",
       "      <td>0.721078</td>\n",
       "      <td>0.721078</td>\n",
       "      <td>0.721078</td>\n",
       "      <td>...</td>\n",
       "      <td>0.462255</td>\n",
       "      <td>0.465196</td>\n",
       "      <td>0.465196</td>\n",
       "      <td>0.465196</td>\n",
       "      <td>0.465196</td>\n",
       "      <td>0.465196</td>\n",
       "      <td>0.465196</td>\n",
       "      <td>0.462255</td>\n",
       "      <td>0.462255</td>\n",
       "      <td>0.462255</td>\n",
       "    </tr>\n",
       "    <tr>\n",
       "      <th>2445</th>\n",
       "      <td>0.244914</td>\n",
       "      <td>0.244914</td>\n",
       "      <td>0.244914</td>\n",
       "      <td>0.317586</td>\n",
       "      <td>0.317586</td>\n",
       "      <td>0.317586</td>\n",
       "      <td>0.317586</td>\n",
       "      <td>0.317586</td>\n",
       "      <td>0.317586</td>\n",
       "      <td>0.244914</td>\n",
       "      <td>...</td>\n",
       "      <td>0.576532</td>\n",
       "      <td>0.564400</td>\n",
       "      <td>0.564400</td>\n",
       "      <td>0.564400</td>\n",
       "      <td>0.564400</td>\n",
       "      <td>0.564400</td>\n",
       "      <td>0.564400</td>\n",
       "      <td>0.576532</td>\n",
       "      <td>0.576532</td>\n",
       "      <td>0.576532</td>\n",
       "    </tr>\n",
       "    <tr>\n",
       "      <th>10360</th>\n",
       "      <td>0.283456</td>\n",
       "      <td>0.283456</td>\n",
       "      <td>0.283456</td>\n",
       "      <td>0.264093</td>\n",
       "      <td>0.264093</td>\n",
       "      <td>0.264093</td>\n",
       "      <td>0.264093</td>\n",
       "      <td>0.264093</td>\n",
       "      <td>0.264093</td>\n",
       "      <td>0.283456</td>\n",
       "      <td>...</td>\n",
       "      <td>0.002757</td>\n",
       "      <td>0.000919</td>\n",
       "      <td>0.000919</td>\n",
       "      <td>0.000919</td>\n",
       "      <td>0.000919</td>\n",
       "      <td>0.000919</td>\n",
       "      <td>0.000919</td>\n",
       "      <td>0.002757</td>\n",
       "      <td>0.002757</td>\n",
       "      <td>0.002757</td>\n",
       "    </tr>\n",
       "    <tr>\n",
       "      <th>9697</th>\n",
       "      <td>0.094669</td>\n",
       "      <td>0.094669</td>\n",
       "      <td>0.094669</td>\n",
       "      <td>0.082537</td>\n",
       "      <td>0.082537</td>\n",
       "      <td>0.082537</td>\n",
       "      <td>0.082537</td>\n",
       "      <td>0.082537</td>\n",
       "      <td>0.082537</td>\n",
       "      <td>0.094669</td>\n",
       "      <td>...</td>\n",
       "      <td>0.747120</td>\n",
       "      <td>0.903615</td>\n",
       "      <td>0.903615</td>\n",
       "      <td>0.903615</td>\n",
       "      <td>0.903615</td>\n",
       "      <td>0.903615</td>\n",
       "      <td>0.903615</td>\n",
       "      <td>0.747120</td>\n",
       "      <td>0.747120</td>\n",
       "      <td>0.747120</td>\n",
       "    </tr>\n",
       "    <tr>\n",
       "      <th>12871</th>\n",
       "      <td>0.226514</td>\n",
       "      <td>0.226514</td>\n",
       "      <td>0.226514</td>\n",
       "      <td>0.068427</td>\n",
       "      <td>0.068427</td>\n",
       "      <td>0.068427</td>\n",
       "      <td>0.127429</td>\n",
       "      <td>0.127429</td>\n",
       "      <td>0.127429</td>\n",
       "      <td>0.176959</td>\n",
       "      <td>...</td>\n",
       "      <td>0.380794</td>\n",
       "      <td>0.493244</td>\n",
       "      <td>0.493244</td>\n",
       "      <td>0.493244</td>\n",
       "      <td>0.456828</td>\n",
       "      <td>0.456828</td>\n",
       "      <td>0.456828</td>\n",
       "      <td>0.443355</td>\n",
       "      <td>0.443355</td>\n",
       "      <td>0.443355</td>\n",
       "    </tr>\n",
       "    <tr>\n",
       "      <th>11093</th>\n",
       "      <td>0.000000</td>\n",
       "      <td>0.000000</td>\n",
       "      <td>0.000000</td>\n",
       "      <td>0.000000</td>\n",
       "      <td>0.000000</td>\n",
       "      <td>0.000000</td>\n",
       "      <td>0.000000</td>\n",
       "      <td>0.000000</td>\n",
       "      <td>0.000000</td>\n",
       "      <td>0.000000</td>\n",
       "      <td>...</td>\n",
       "      <td>0.521569</td>\n",
       "      <td>0.521569</td>\n",
       "      <td>0.521569</td>\n",
       "      <td>0.521569</td>\n",
       "      <td>0.521569</td>\n",
       "      <td>0.521569</td>\n",
       "      <td>0.521569</td>\n",
       "      <td>0.521569</td>\n",
       "      <td>0.521569</td>\n",
       "      <td>0.521569</td>\n",
       "    </tr>\n",
       "    <tr>\n",
       "      <th>8686</th>\n",
       "      <td>0.328676</td>\n",
       "      <td>0.328676</td>\n",
       "      <td>0.328676</td>\n",
       "      <td>0.344853</td>\n",
       "      <td>0.344853</td>\n",
       "      <td>0.344853</td>\n",
       "      <td>0.344853</td>\n",
       "      <td>0.344853</td>\n",
       "      <td>0.344853</td>\n",
       "      <td>0.328676</td>\n",
       "      <td>...</td>\n",
       "      <td>0.679167</td>\n",
       "      <td>0.777696</td>\n",
       "      <td>0.777696</td>\n",
       "      <td>0.777696</td>\n",
       "      <td>0.777696</td>\n",
       "      <td>0.777696</td>\n",
       "      <td>0.777696</td>\n",
       "      <td>0.679167</td>\n",
       "      <td>0.679167</td>\n",
       "      <td>0.679167</td>\n",
       "    </tr>\n",
       "    <tr>\n",
       "      <th>2974</th>\n",
       "      <td>0.000000</td>\n",
       "      <td>0.000000</td>\n",
       "      <td>0.000000</td>\n",
       "      <td>0.000000</td>\n",
       "      <td>0.000000</td>\n",
       "      <td>0.000000</td>\n",
       "      <td>0.000000</td>\n",
       "      <td>0.000000</td>\n",
       "      <td>0.000000</td>\n",
       "      <td>0.000000</td>\n",
       "      <td>...</td>\n",
       "      <td>0.447549</td>\n",
       "      <td>0.329902</td>\n",
       "      <td>0.329902</td>\n",
       "      <td>0.329902</td>\n",
       "      <td>0.329902</td>\n",
       "      <td>0.329902</td>\n",
       "      <td>0.329902</td>\n",
       "      <td>0.447549</td>\n",
       "      <td>0.447549</td>\n",
       "      <td>0.447549</td>\n",
       "    </tr>\n",
       "    <tr>\n",
       "      <th>10872</th>\n",
       "      <td>0.177819</td>\n",
       "      <td>0.177819</td>\n",
       "      <td>0.177819</td>\n",
       "      <td>0.191299</td>\n",
       "      <td>0.191299</td>\n",
       "      <td>0.191299</td>\n",
       "      <td>0.191299</td>\n",
       "      <td>0.191299</td>\n",
       "      <td>0.191299</td>\n",
       "      <td>0.177819</td>\n",
       "      <td>...</td>\n",
       "      <td>0.370895</td>\n",
       "      <td>0.371998</td>\n",
       "      <td>0.371998</td>\n",
       "      <td>0.371998</td>\n",
       "      <td>0.371998</td>\n",
       "      <td>0.371998</td>\n",
       "      <td>0.371998</td>\n",
       "      <td>0.370895</td>\n",
       "      <td>0.370895</td>\n",
       "      <td>0.370895</td>\n",
       "    </tr>\n",
       "    <tr>\n",
       "      <th>9408</th>\n",
       "      <td>0.000000</td>\n",
       "      <td>0.000000</td>\n",
       "      <td>0.000000</td>\n",
       "      <td>0.000000</td>\n",
       "      <td>0.000000</td>\n",
       "      <td>0.000000</td>\n",
       "      <td>0.000000</td>\n",
       "      <td>0.000000</td>\n",
       "      <td>0.000000</td>\n",
       "      <td>0.000000</td>\n",
       "      <td>...</td>\n",
       "      <td>0.386275</td>\n",
       "      <td>0.407843</td>\n",
       "      <td>0.407843</td>\n",
       "      <td>0.407843</td>\n",
       "      <td>0.407843</td>\n",
       "      <td>0.407843</td>\n",
       "      <td>0.407843</td>\n",
       "      <td>0.386275</td>\n",
       "      <td>0.386275</td>\n",
       "      <td>0.386275</td>\n",
       "    </tr>\n",
       "  </tbody>\n",
       "</table>\n",
       "<p>15 rows × 196608 columns</p>\n",
       "</div>"
      ],
      "text/plain": [
       "         0         1         2         3         4         5         6       \\\n",
       "10522  0.690196  0.690196  0.690196  0.690196  0.690196  0.690196  0.690196   \n",
       "4087   0.289767  0.289767  0.289767  0.281556  0.281556  0.281556  0.281556   \n",
       "4665   0.500980  0.500980  0.500980  0.436275  0.436275  0.436275  0.436275   \n",
       "12221  0.154044  0.154044  0.154044  0.173897  0.173897  0.173897  0.173897   \n",
       "4385   0.129963  0.129963  0.129963  0.094301  0.094301  0.094301  0.094301   \n",
       "6809   0.721078  0.721078  0.721078  0.721078  0.721078  0.721078  0.721078   \n",
       "2445   0.244914  0.244914  0.244914  0.317586  0.317586  0.317586  0.317586   \n",
       "10360  0.283456  0.283456  0.283456  0.264093  0.264093  0.264093  0.264093   \n",
       "9697   0.094669  0.094669  0.094669  0.082537  0.082537  0.082537  0.082537   \n",
       "12871  0.226514  0.226514  0.226514  0.068427  0.068427  0.068427  0.127429   \n",
       "11093  0.000000  0.000000  0.000000  0.000000  0.000000  0.000000  0.000000   \n",
       "8686   0.328676  0.328676  0.328676  0.344853  0.344853  0.344853  0.344853   \n",
       "2974   0.000000  0.000000  0.000000  0.000000  0.000000  0.000000  0.000000   \n",
       "10872  0.177819  0.177819  0.177819  0.191299  0.191299  0.191299  0.191299   \n",
       "9408   0.000000  0.000000  0.000000  0.000000  0.000000  0.000000  0.000000   \n",
       "\n",
       "         7         8         9       ...    196598    196599    196600  \\\n",
       "10522  0.690196  0.690196  0.690196  ...  0.363971  0.385049  0.385049   \n",
       "4087   0.281556  0.281556  0.289767  ...  0.115809  0.106250  0.106250   \n",
       "4665   0.436275  0.436275  0.500980  ...  0.540196  0.540196  0.540196   \n",
       "12221  0.173897  0.173897  0.154044  ...  0.752267  0.743566  0.743566   \n",
       "4385   0.094301  0.094301  0.129963  ...  0.222120  0.208027  0.208027   \n",
       "6809   0.721078  0.721078  0.721078  ...  0.462255  0.465196  0.465196   \n",
       "2445   0.317586  0.317586  0.244914  ...  0.576532  0.564400  0.564400   \n",
       "10360  0.264093  0.264093  0.283456  ...  0.002757  0.000919  0.000919   \n",
       "9697   0.082537  0.082537  0.094669  ...  0.747120  0.903615  0.903615   \n",
       "12871  0.127429  0.127429  0.176959  ...  0.380794  0.493244  0.493244   \n",
       "11093  0.000000  0.000000  0.000000  ...  0.521569  0.521569  0.521569   \n",
       "8686   0.344853  0.344853  0.328676  ...  0.679167  0.777696  0.777696   \n",
       "2974   0.000000  0.000000  0.000000  ...  0.447549  0.329902  0.329902   \n",
       "10872  0.191299  0.191299  0.177819  ...  0.370895  0.371998  0.371998   \n",
       "9408   0.000000  0.000000  0.000000  ...  0.386275  0.407843  0.407843   \n",
       "\n",
       "         196601    196602    196603    196604    196605    196606    196607  \n",
       "10522  0.385049  0.385049  0.385049  0.385049  0.363971  0.363971  0.363971  \n",
       "4087   0.106250  0.106250  0.106250  0.106250  0.115809  0.115809  0.115809  \n",
       "4665   0.540196  0.540196  0.540196  0.540196  0.540196  0.540196  0.540196  \n",
       "12221  0.743566  0.743566  0.743566  0.743566  0.752267  0.752267  0.752267  \n",
       "4385   0.208027  0.208027  0.208027  0.208027  0.222120  0.222120  0.222120  \n",
       "6809   0.465196  0.465196  0.465196  0.465196  0.462255  0.462255  0.462255  \n",
       "2445   0.564400  0.564400  0.564400  0.564400  0.576532  0.576532  0.576532  \n",
       "10360  0.000919  0.000919  0.000919  0.000919  0.002757  0.002757  0.002757  \n",
       "9697   0.903615  0.903615  0.903615  0.903615  0.747120  0.747120  0.747120  \n",
       "12871  0.493244  0.456828  0.456828  0.456828  0.443355  0.443355  0.443355  \n",
       "11093  0.521569  0.521569  0.521569  0.521569  0.521569  0.521569  0.521569  \n",
       "8686   0.777696  0.777696  0.777696  0.777696  0.679167  0.679167  0.679167  \n",
       "2974   0.329902  0.329902  0.329902  0.329902  0.447549  0.447549  0.447549  \n",
       "10872  0.371998  0.371998  0.371998  0.371998  0.370895  0.370895  0.370895  \n",
       "9408   0.407843  0.407843  0.407843  0.407843  0.386275  0.386275  0.386275  \n",
       "\n",
       "[15 rows x 196608 columns]"
      ]
     },
     "execution_count": 8,
     "metadata": {},
     "output_type": "execute_result"
    }
   ],
   "source": [
    "x_train.sample(15)"
   ]
  },
  {
   "cell_type": "code",
   "execution_count": 9,
   "id": "066f6e29",
   "metadata": {},
   "outputs": [],
   "source": [
    "y_train = pd.DataFrame(y_train)"
   ]
  },
  {
   "cell_type": "code",
   "execution_count": 10,
   "id": "0554581e",
   "metadata": {},
   "outputs": [],
   "source": [
    "X_test = pd.DataFrame(X_test)"
   ]
  },
  {
   "cell_type": "code",
   "execution_count": 11,
   "id": "489469ec",
   "metadata": {},
   "outputs": [],
   "source": [
    "y_test = pd.DataFrame(y_test)"
   ]
  },
  {
   "cell_type": "code",
   "execution_count": 12,
   "id": "51414003",
   "metadata": {},
   "outputs": [
    {
     "data": {
      "text/plain": [
       "1.0"
      ]
     },
     "execution_count": 12,
     "metadata": {},
     "output_type": "execute_result"
    }
   ],
   "source": [
    "X_train.max()"
   ]
  },
  {
   "cell_type": "code",
   "execution_count": 14,
   "id": "1387a1f8",
   "metadata": {},
   "outputs": [],
   "source": [
    "from sklearn.decomposition import PCA\n",
    "pca = PCA(n_components = 1000)"
   ]
  },
  {
   "cell_type": "code",
   "execution_count": 16,
   "id": "62508616",
   "metadata": {},
   "outputs": [],
   "source": [
    "X_train = pca.fit_transform(X_train)\n",
    "X_test = pca.transform(X_test)"
   ]
  },
  {
   "cell_type": "code",
   "execution_count": 20,
   "id": "c89b4c04",
   "metadata": {},
   "outputs": [
    {
     "data": {
      "text/plain": [
       "(13250, 1000)"
      ]
     },
     "execution_count": 20,
     "metadata": {},
     "output_type": "execute_result"
    }
   ],
   "source": [
    "X_train.shape"
   ]
  },
  {
   "cell_type": "markdown",
   "id": "92574ee6",
   "metadata": {},
   "source": [
    "RANDOM FOREST"
   ]
  },
  {
   "cell_type": "code",
   "execution_count": 21,
   "id": "6871f2db",
   "metadata": {},
   "outputs": [
    {
     "name": "stderr",
     "output_type": "stream",
     "text": [
      "C:\\Users\\DELL\\AppData\\Local\\Temp\\ipykernel_23792\\1201323500.py:4: DataConversionWarning: A column-vector y was passed when a 1d array was expected. Please change the shape of y to (n_samples,), for example using ravel().\n",
      "  hist = model.fit(X_train, y_train)\n"
     ]
    }
   ],
   "source": [
    "from sklearn.ensemble import RandomForestClassifier\n",
    "\n",
    "model = RandomForestClassifier(n_estimators=100)\n",
    "hist = model.fit(X_train, y_train)"
   ]
  },
  {
   "cell_type": "code",
   "execution_count": 27,
   "id": "f1b558d0",
   "metadata": {},
   "outputs": [],
   "source": [
    "from sklearn.metrics import accuracy_score"
   ]
  },
  {
   "cell_type": "code",
   "execution_count": 29,
   "id": "ddc88d86",
   "metadata": {},
   "outputs": [],
   "source": [
    "y_pred = model.predict(X_test)"
   ]
  },
  {
   "cell_type": "code",
   "execution_count": 30,
   "id": "149fbb11",
   "metadata": {},
   "outputs": [
    {
     "data": {
      "text/plain": [
       "0.904"
      ]
     },
     "execution_count": 30,
     "metadata": {},
     "output_type": "execute_result"
    }
   ],
   "source": [
    "accuracy_score(y_test, y_pred)"
   ]
  },
  {
   "cell_type": "markdown",
   "id": "daa44604",
   "metadata": {},
   "source": [
    "KNN"
   ]
  },
  {
   "cell_type": "code",
   "execution_count": 56,
   "id": "e0997eec",
   "metadata": {},
   "outputs": [],
   "source": [
    "from sklearn.neighbors import KNeighborsClassifier\n",
    "knn = KNeighborsClassifier(n_neighbors = 1)"
   ]
  },
  {
   "cell_type": "code",
   "execution_count": 57,
   "id": "ef7daf76",
   "metadata": {},
   "outputs": [
    {
     "name": "stderr",
     "output_type": "stream",
     "text": [
      "C:\\Users\\DELL\\anaconda3\\Lib\\site-packages\\sklearn\\neighbors\\_classification.py:215: DataConversionWarning: A column-vector y was passed when a 1d array was expected. Please change the shape of y to (n_samples,), for example using ravel().\n",
      "  return self._fit(X, y)\n"
     ]
    },
    {
     "data": {
      "text/html": [
       "<style>#sk-container-id-7 {color: black;background-color: white;}#sk-container-id-7 pre{padding: 0;}#sk-container-id-7 div.sk-toggleable {background-color: white;}#sk-container-id-7 label.sk-toggleable__label {cursor: pointer;display: block;width: 100%;margin-bottom: 0;padding: 0.3em;box-sizing: border-box;text-align: center;}#sk-container-id-7 label.sk-toggleable__label-arrow:before {content: \"▸\";float: left;margin-right: 0.25em;color: #696969;}#sk-container-id-7 label.sk-toggleable__label-arrow:hover:before {color: black;}#sk-container-id-7 div.sk-estimator:hover label.sk-toggleable__label-arrow:before {color: black;}#sk-container-id-7 div.sk-toggleable__content {max-height: 0;max-width: 0;overflow: hidden;text-align: left;background-color: #f0f8ff;}#sk-container-id-7 div.sk-toggleable__content pre {margin: 0.2em;color: black;border-radius: 0.25em;background-color: #f0f8ff;}#sk-container-id-7 input.sk-toggleable__control:checked~div.sk-toggleable__content {max-height: 200px;max-width: 100%;overflow: auto;}#sk-container-id-7 input.sk-toggleable__control:checked~label.sk-toggleable__label-arrow:before {content: \"▾\";}#sk-container-id-7 div.sk-estimator input.sk-toggleable__control:checked~label.sk-toggleable__label {background-color: #d4ebff;}#sk-container-id-7 div.sk-label input.sk-toggleable__control:checked~label.sk-toggleable__label {background-color: #d4ebff;}#sk-container-id-7 input.sk-hidden--visually {border: 0;clip: rect(1px 1px 1px 1px);clip: rect(1px, 1px, 1px, 1px);height: 1px;margin: -1px;overflow: hidden;padding: 0;position: absolute;width: 1px;}#sk-container-id-7 div.sk-estimator {font-family: monospace;background-color: #f0f8ff;border: 1px dotted black;border-radius: 0.25em;box-sizing: border-box;margin-bottom: 0.5em;}#sk-container-id-7 div.sk-estimator:hover {background-color: #d4ebff;}#sk-container-id-7 div.sk-parallel-item::after {content: \"\";width: 100%;border-bottom: 1px solid gray;flex-grow: 1;}#sk-container-id-7 div.sk-label:hover label.sk-toggleable__label {background-color: #d4ebff;}#sk-container-id-7 div.sk-serial::before {content: \"\";position: absolute;border-left: 1px solid gray;box-sizing: border-box;top: 0;bottom: 0;left: 50%;z-index: 0;}#sk-container-id-7 div.sk-serial {display: flex;flex-direction: column;align-items: center;background-color: white;padding-right: 0.2em;padding-left: 0.2em;position: relative;}#sk-container-id-7 div.sk-item {position: relative;z-index: 1;}#sk-container-id-7 div.sk-parallel {display: flex;align-items: stretch;justify-content: center;background-color: white;position: relative;}#sk-container-id-7 div.sk-item::before, #sk-container-id-7 div.sk-parallel-item::before {content: \"\";position: absolute;border-left: 1px solid gray;box-sizing: border-box;top: 0;bottom: 0;left: 50%;z-index: -1;}#sk-container-id-7 div.sk-parallel-item {display: flex;flex-direction: column;z-index: 1;position: relative;background-color: white;}#sk-container-id-7 div.sk-parallel-item:first-child::after {align-self: flex-end;width: 50%;}#sk-container-id-7 div.sk-parallel-item:last-child::after {align-self: flex-start;width: 50%;}#sk-container-id-7 div.sk-parallel-item:only-child::after {width: 0;}#sk-container-id-7 div.sk-dashed-wrapped {border: 1px dashed gray;margin: 0 0.4em 0.5em 0.4em;box-sizing: border-box;padding-bottom: 0.4em;background-color: white;}#sk-container-id-7 div.sk-label label {font-family: monospace;font-weight: bold;display: inline-block;line-height: 1.2em;}#sk-container-id-7 div.sk-label-container {text-align: center;}#sk-container-id-7 div.sk-container {/* jupyter's `normalize.less` sets `[hidden] { display: none; }` but bootstrap.min.css set `[hidden] { display: none !important; }` so we also need the `!important` here to be able to override the default hidden behavior on the sphinx rendered scikit-learn.org. See: https://github.com/scikit-learn/scikit-learn/issues/21755 */display: inline-block !important;position: relative;}#sk-container-id-7 div.sk-text-repr-fallback {display: none;}</style><div id=\"sk-container-id-7\" class=\"sk-top-container\"><div class=\"sk-text-repr-fallback\"><pre>KNeighborsClassifier(n_neighbors=1)</pre><b>In a Jupyter environment, please rerun this cell to show the HTML representation or trust the notebook. <br />On GitHub, the HTML representation is unable to render, please try loading this page with nbviewer.org.</b></div><div class=\"sk-container\" hidden><div class=\"sk-item\"><div class=\"sk-estimator sk-toggleable\"><input class=\"sk-toggleable__control sk-hidden--visually\" id=\"sk-estimator-id-7\" type=\"checkbox\" checked><label for=\"sk-estimator-id-7\" class=\"sk-toggleable__label sk-toggleable__label-arrow\">KNeighborsClassifier</label><div class=\"sk-toggleable__content\"><pre>KNeighborsClassifier(n_neighbors=1)</pre></div></div></div></div></div>"
      ],
      "text/plain": [
       "KNeighborsClassifier(n_neighbors=1)"
      ]
     },
     "execution_count": 57,
     "metadata": {},
     "output_type": "execute_result"
    }
   ],
   "source": [
    "knn.fit(X_train,y_train)"
   ]
  },
  {
   "cell_type": "code",
   "execution_count": 58,
   "id": "d208719b",
   "metadata": {},
   "outputs": [],
   "source": [
    "y_pred_knn = knn.predict(X_test)"
   ]
  },
  {
   "cell_type": "code",
   "execution_count": 59,
   "id": "9cde8638",
   "metadata": {},
   "outputs": [
    {
     "data": {
      "text/plain": [
       "0.9474285714285714"
      ]
     },
     "execution_count": 59,
     "metadata": {},
     "output_type": "execute_result"
    }
   ],
   "source": [
    "accuracy_score(y_test,y_pred_knn)"
   ]
  },
  {
   "cell_type": "code",
   "execution_count": 62,
   "id": "a57ca377",
   "metadata": {},
   "outputs": [
    {
     "name": "stderr",
     "output_type": "stream",
     "text": [
      "C:\\Users\\DELL\\anaconda3\\Lib\\site-packages\\sklearn\\neighbors\\_classification.py:215: DataConversionWarning: A column-vector y was passed when a 1d array was expected. Please change the shape of y to (n_samples,), for example using ravel().\n",
      "  return self._fit(X, y)\n",
      "C:\\Users\\DELL\\anaconda3\\Lib\\site-packages\\sklearn\\neighbors\\_classification.py:215: DataConversionWarning: A column-vector y was passed when a 1d array was expected. Please change the shape of y to (n_samples,), for example using ravel().\n",
      "  return self._fit(X, y)\n",
      "C:\\Users\\DELL\\anaconda3\\Lib\\site-packages\\sklearn\\neighbors\\_classification.py:215: DataConversionWarning: A column-vector y was passed when a 1d array was expected. Please change the shape of y to (n_samples,), for example using ravel().\n",
      "  return self._fit(X, y)\n",
      "C:\\Users\\DELL\\anaconda3\\Lib\\site-packages\\sklearn\\neighbors\\_classification.py:215: DataConversionWarning: A column-vector y was passed when a 1d array was expected. Please change the shape of y to (n_samples,), for example using ravel().\n",
      "  return self._fit(X, y)\n",
      "C:\\Users\\DELL\\anaconda3\\Lib\\site-packages\\sklearn\\neighbors\\_classification.py:215: DataConversionWarning: A column-vector y was passed when a 1d array was expected. Please change the shape of y to (n_samples,), for example using ravel().\n",
      "  return self._fit(X, y)\n",
      "C:\\Users\\DELL\\anaconda3\\Lib\\site-packages\\sklearn\\neighbors\\_classification.py:215: DataConversionWarning: A column-vector y was passed when a 1d array was expected. Please change the shape of y to (n_samples,), for example using ravel().\n",
      "  return self._fit(X, y)\n",
      "C:\\Users\\DELL\\anaconda3\\Lib\\site-packages\\sklearn\\neighbors\\_classification.py:215: DataConversionWarning: A column-vector y was passed when a 1d array was expected. Please change the shape of y to (n_samples,), for example using ravel().\n",
      "  return self._fit(X, y)\n",
      "C:\\Users\\DELL\\anaconda3\\Lib\\site-packages\\sklearn\\neighbors\\_classification.py:215: DataConversionWarning: A column-vector y was passed when a 1d array was expected. Please change the shape of y to (n_samples,), for example using ravel().\n",
      "  return self._fit(X, y)\n",
      "C:\\Users\\DELL\\anaconda3\\Lib\\site-packages\\sklearn\\neighbors\\_classification.py:215: DataConversionWarning: A column-vector y was passed when a 1d array was expected. Please change the shape of y to (n_samples,), for example using ravel().\n",
      "  return self._fit(X, y)\n"
     ]
    }
   ],
   "source": [
    "scores = []\n",
    "\n",
    "for i in range(1,10):\n",
    "    \n",
    "    knn = knn = KNeighborsClassifier(n_neighbors = i)\n",
    "    knn.fit(X_train,y_train)\n",
    "    y_pred_knn = knn.predict(X_test)\n",
    "    scores.append(accuracy_score(y_test,y_pred_knn))"
   ]
  },
  {
   "cell_type": "code",
   "execution_count": 64,
   "id": "32293522",
   "metadata": {},
   "outputs": [
    {
     "data": {
      "text/plain": [
       "[<matplotlib.lines.Line2D at 0x25dba4c7010>]"
      ]
     },
     "execution_count": 64,
     "metadata": {},
     "output_type": "execute_result"
    },
    {
     "data": {
      "image/png": "[encoded data removed]",
      "text/plain": [
       "<Figure size 640x480 with 1 Axes>"
      ]
     },
     "metadata": {},
     "output_type": "display_data"
    }
   ],
   "source": [
    "plt.plot(range(1,10),scores)"
   ]
  },
  {
   "cell_type": "markdown",
   "id": "f978e8f2",
   "metadata": {},
   "source": [
    "-------------------------------------------------------------------------------\n",
    "-------------------------------------------------------------------------------\n",
    "______________________________________________________________________________________________________________________________________________________________"
   ]
  },
  {
   "cell_type": "markdown",
   "id": "e5d5c506",
   "metadata": {},
   "source": [
    "XGBOOST"
   ]
  },
  {
   "cell_type": "code",
   "execution_count": 77,
   "id": "4fbc7524",
   "metadata": {},
   "outputs": [],
   "source": [
    "import xgboost as xgb\n",
    "from xgboost import XGBClassifier"
   ]
  },
  {
   "cell_type": "code",
   "execution_count": 79,
   "id": "72f911ec",
   "metadata": {},
   "outputs": [],
   "source": [
    "model_XGB = XGBClassifier() "
   ]
  },
  {
   "cell_type": "code",
   "execution_count": 80,
   "id": "9b15e82a",
   "metadata": {},
   "outputs": [
    {
     "data": {
      "text/html": [
       "<style>#sk-container-id-8 {color: black;background-color: white;}#sk-container-id-8 pre{padding: 0;}#sk-container-id-8 div.sk-toggleable {background-color: white;}#sk-container-id-8 label.sk-toggleable__label {cursor: pointer;display: block;width: 100%;margin-bottom: 0;padding: 0.3em;box-sizing: border-box;text-align: center;}#sk-container-id-8 label.sk-toggleable__label-arrow:before {content: \"▸\";float: left;margin-right: 0.25em;color: #696969;}#sk-container-id-8 label.sk-toggleable__label-arrow:hover:before {color: black;}#sk-container-id-8 div.sk-estimator:hover label.sk-toggleable__label-arrow:before {color: black;}#sk-container-id-8 div.sk-toggleable__content {max-height: 0;max-width: 0;overflow: hidden;text-align: left;background-color: #f0f8ff;}#sk-container-id-8 div.sk-toggleable__content pre {margin: 0.2em;color: black;border-radius: 0.25em;background-color: #f0f8ff;}#sk-container-id-8 input.sk-toggleable__control:checked~div.sk-toggleable__content {max-height: 200px;max-width: 100%;overflow: auto;}#sk-container-id-8 input.sk-toggleable__control:checked~label.sk-toggleable__label-arrow:before {content: \"▾\";}#sk-container-id-8 div.sk-estimator input.sk-toggleable__control:checked~label.sk-toggleable__label {background-color: #d4ebff;}#sk-container-id-8 div.sk-label input.sk-toggleable__control:checked~label.sk-toggleable__label {background-color: #d4ebff;}#sk-container-id-8 input.sk-hidden--visually {border: 0;clip: rect(1px 1px 1px 1px);clip: rect(1px, 1px, 1px, 1px);height: 1px;margin: -1px;overflow: hidden;padding: 0;position: absolute;width: 1px;}#sk-container-id-8 div.sk-estimator {font-family: monospace;background-color: #f0f8ff;border: 1px dotted black;border-radius: 0.25em;box-sizing: border-box;margin-bottom: 0.5em;}#sk-container-id-8 div.sk-estimator:hover {background-color: #d4ebff;}#sk-container-id-8 div.sk-parallel-item::after {content: \"\";width: 100%;border-bottom: 1px solid gray;flex-grow: 1;}#sk-container-id-8 div.sk-label:hover label.sk-toggleable__label {background-color: #d4ebff;}#sk-container-id-8 div.sk-serial::before {content: \"\";position: absolute;border-left: 1px solid gray;box-sizing: border-box;top: 0;bottom: 0;left: 50%;z-index: 0;}#sk-container-id-8 div.sk-serial {display: flex;flex-direction: column;align-items: center;background-color: white;padding-right: 0.2em;padding-left: 0.2em;position: relative;}#sk-container-id-8 div.sk-item {position: relative;z-index: 1;}#sk-container-id-8 div.sk-parallel {display: flex;align-items: stretch;justify-content: center;background-color: white;position: relative;}#sk-container-id-8 div.sk-item::before, #sk-container-id-8 div.sk-parallel-item::before {content: \"\";position: absolute;border-left: 1px solid gray;box-sizing: border-box;top: 0;bottom: 0;left: 50%;z-index: -1;}#sk-container-id-8 div.sk-parallel-item {display: flex;flex-direction: column;z-index: 1;position: relative;background-color: white;}#sk-container-id-8 div.sk-parallel-item:first-child::after {align-self: flex-end;width: 50%;}#sk-container-id-8 div.sk-parallel-item:last-child::after {align-self: flex-start;width: 50%;}#sk-container-id-8 div.sk-parallel-item:only-child::after {width: 0;}#sk-container-id-8 div.sk-dashed-wrapped {border: 1px dashed gray;margin: 0 0.4em 0.5em 0.4em;box-sizing: border-box;padding-bottom: 0.4em;background-color: white;}#sk-container-id-8 div.sk-label label {font-family: monospace;font-weight: bold;display: inline-block;line-height: 1.2em;}#sk-container-id-8 div.sk-label-container {text-align: center;}#sk-container-id-8 div.sk-container {/* jupyter's `normalize.less` sets `[hidden] { display: none; }` but bootstrap.min.css set `[hidden] { display: none !important; }` so we also need the `!important` here to be able to override the default hidden behavior on the sphinx rendered scikit-learn.org. See: https://github.com/scikit-learn/scikit-learn/issues/21755 */display: inline-block !important;position: relative;}#sk-container-id-8 div.sk-text-repr-fallback {display: none;}</style><div id=\"sk-container-id-8\" class=\"sk-top-container\"><div class=\"sk-text-repr-fallback\"><pre>XGBClassifier(base_score=None, booster=None, callbacks=None,\n",
       "              colsample_bylevel=None, colsample_bynode=None,\n",
       "              colsample_bytree=None, early_stopping_rounds=None,\n",
       "              enable_categorical=False, eval_metric=None, feature_types=None,\n",
       "              gamma=None, gpu_id=None, grow_policy=None, importance_type=None,\n",
       "              interaction_constraints=None, learning_rate=None, max_bin=None,\n",
       "              max_cat_threshold=None, max_cat_to_onehot=None,\n",
       "              max_delta_step=None, max_depth=None, max_leaves=None,\n",
       "              min_child_weight=None, missing=nan, monotone_constraints=None,\n",
       "              n_estimators=100, n_jobs=None, num_parallel_tree=None,\n",
       "              objective=&#x27;multi:softprob&#x27;, predictor=None, ...)</pre><b>In a Jupyter environment, please rerun this cell to show the HTML representation or trust the notebook. <br />On GitHub, the HTML representation is unable to render, please try loading this page with nbviewer.org.</b></div><div class=\"sk-container\" hidden><div class=\"sk-item\"><div class=\"sk-estimator sk-toggleable\"><input class=\"sk-toggleable__control sk-hidden--visually\" id=\"sk-estimator-id-8\" type=\"checkbox\" checked><label for=\"sk-estimator-id-8\" class=\"sk-toggleable__label sk-toggleable__label-arrow\">XGBClassifier</label><div class=\"sk-toggleable__content\"><pre>XGBClassifier(base_score=None, booster=None, callbacks=None,\n",
       "              colsample_bylevel=None, colsample_bynode=None,\n",
       "              colsample_bytree=None, early_stopping_rounds=None,\n",
       "              enable_categorical=False, eval_metric=None, feature_types=None,\n",
       "              gamma=None, gpu_id=None, grow_policy=None, importance_type=None,\n",
       "              interaction_constraints=None, learning_rate=None, max_bin=None,\n",
       "              max_cat_threshold=None, max_cat_to_onehot=None,\n",
       "              max_delta_step=None, max_depth=None, max_leaves=None,\n",
       "              min_child_weight=None, missing=nan, monotone_constraints=None,\n",
       "              n_estimators=100, n_jobs=None, num_parallel_tree=None,\n",
       "              objective=&#x27;multi:softprob&#x27;, predictor=None, ...)</pre></div></div></div></div></div>"
      ],
      "text/plain": [
       "XGBClassifier(base_score=None, booster=None, callbacks=None,\n",
       "              colsample_bylevel=None, colsample_bynode=None,\n",
       "              colsample_bytree=None, early_stopping_rounds=None,\n",
       "              enable_categorical=False, eval_metric=None, feature_types=None,\n",
       "              gamma=None, gpu_id=None, grow_policy=None, importance_type=None,\n",
       "              interaction_constraints=None, learning_rate=None, max_bin=None,\n",
       "              max_cat_threshold=None, max_cat_to_onehot=None,\n",
       "              max_delta_step=None, max_depth=None, max_leaves=None,\n",
       "              min_child_weight=None, missing=nan, monotone_constraints=None,\n",
       "              n_estimators=100, n_jobs=None, num_parallel_tree=None,\n",
       "              objective='multi:softprob', predictor=None, ...)"
      ]
     },
     "execution_count": 80,
     "metadata": {},
     "output_type": "execute_result"
    }
   ],
   "source": [
    "model_XGB.fit(X_train, y_train)"
   ]
  },
  {
   "cell_type": "code",
   "execution_count": 82,
   "id": "08319c7e",
   "metadata": {},
   "outputs": [],
   "source": [
    "y_pred_XGB = model_XGB.predict(X_test)"
   ]
  },
  {
   "cell_type": "code",
   "execution_count": 83,
   "id": "4753fdca",
   "metadata": {},
   "outputs": [
    {
     "data": {
      "text/plain": [
       "0.9171428571428571"
      ]
     },
     "execution_count": 83,
     "metadata": {},
     "output_type": "execute_result"
    }
   ],
   "source": [
    "accuracy_score(y_test,y_pred_XGB)"
   ]
  },
  {
   "cell_type": "markdown",
   "id": "3a242082",
   "metadata": {},
   "source": [
    "-------------------------------------------------------------------------------\n",
    "-------------------------------------------------------------------------------\n",
    "_______________________________________________________________________________\n",
    "_______________________________________________________________________________"
   ]
  },
  {
   "cell_type": "markdown",
   "id": "d325e814",
   "metadata": {},
   "source": [
    "DECISION TREES"
   ]
  },
  {
   "cell_type": "code",
   "execution_count": 86,
   "id": "e89509e8",
   "metadata": {},
   "outputs": [],
   "source": [
    "from sklearn.tree import DecisionTreeClassifier"
   ]
  },
  {
   "cell_type": "code",
   "execution_count": 95,
   "id": "503072c4",
   "metadata": {},
   "outputs": [],
   "source": [
    "model_DT = DecisionTreeClassifier(max_depth=200, random_state=42)\n"
   ]
  },
  {
   "cell_type": "code",
   "execution_count": 96,
   "id": "d8406851",
   "metadata": {},
   "outputs": [
    {
     "data": {
      "text/html": [
       "<style>#sk-container-id-11 {color: black;background-color: white;}#sk-container-id-11 pre{padding: 0;}#sk-container-id-11 div.sk-toggleable {background-color: white;}#sk-container-id-11 label.sk-toggleable__label {cursor: pointer;display: block;width: 100%;margin-bottom: 0;padding: 0.3em;box-sizing: border-box;text-align: center;}#sk-container-id-11 label.sk-toggleable__label-arrow:before {content: \"▸\";float: left;margin-right: 0.25em;color: #696969;}#sk-container-id-11 label.sk-toggleable__label-arrow:hover:before {color: black;}#sk-container-id-11 div.sk-estimator:hover label.sk-toggleable__label-arrow:before {color: black;}#sk-container-id-11 div.sk-toggleable__content {max-height: 0;max-width: 0;overflow: hidden;text-align: left;background-color: #f0f8ff;}#sk-container-id-11 div.sk-toggleable__content pre {margin: 0.2em;color: black;border-radius: 0.25em;background-color: #f0f8ff;}#sk-container-id-11 input.sk-toggleable__control:checked~div.sk-toggleable__content {max-height: 200px;max-width: 100%;overflow: auto;}#sk-container-id-11 input.sk-toggleable__control:checked~label.sk-toggleable__label-arrow:before {content: \"▾\";}#sk-container-id-11 div.sk-estimator input.sk-toggleable__control:checked~label.sk-toggleable__label {background-color: #d4ebff;}#sk-container-id-11 div.sk-label input.sk-toggleable__control:checked~label.sk-toggleable__label {background-color: #d4ebff;}#sk-container-id-11 input.sk-hidden--visually {border: 0;clip: rect(1px 1px 1px 1px);clip: rect(1px, 1px, 1px, 1px);height: 1px;margin: -1px;overflow: hidden;padding: 0;position: absolute;width: 1px;}#sk-container-id-11 div.sk-estimator {font-family: monospace;background-color: #f0f8ff;border: 1px dotted black;border-radius: 0.25em;box-sizing: border-box;margin-bottom: 0.5em;}#sk-container-id-11 div.sk-estimator:hover {background-color: #d4ebff;}#sk-container-id-11 div.sk-parallel-item::after {content: \"\";width: 100%;border-bottom: 1px solid gray;flex-grow: 1;}#sk-container-id-11 div.sk-label:hover label.sk-toggleable__label {background-color: #d4ebff;}#sk-container-id-11 div.sk-serial::before {content: \"\";position: absolute;border-left: 1px solid gray;box-sizing: border-box;top: 0;bottom: 0;left: 50%;z-index: 0;}#sk-container-id-11 div.sk-serial {display: flex;flex-direction: column;align-items: center;background-color: white;padding-right: 0.2em;padding-left: 0.2em;position: relative;}#sk-container-id-11 div.sk-item {position: relative;z-index: 1;}#sk-container-id-11 div.sk-parallel {display: flex;align-items: stretch;justify-content: center;background-color: white;position: relative;}#sk-container-id-11 div.sk-item::before, #sk-container-id-11 div.sk-parallel-item::before {content: \"\";position: absolute;border-left: 1px solid gray;box-sizing: border-box;top: 0;bottom: 0;left: 50%;z-index: -1;}#sk-container-id-11 div.sk-parallel-item {display: flex;flex-direction: column;z-index: 1;position: relative;background-color: white;}#sk-container-id-11 div.sk-parallel-item:first-child::after {align-self: flex-end;width: 50%;}#sk-container-id-11 div.sk-parallel-item:last-child::after {align-self: flex-start;width: 50%;}#sk-container-id-11 div.sk-parallel-item:only-child::after {width: 0;}#sk-container-id-11 div.sk-dashed-wrapped {border: 1px dashed gray;margin: 0 0.4em 0.5em 0.4em;box-sizing: border-box;padding-bottom: 0.4em;background-color: white;}#sk-container-id-11 div.sk-label label {font-family: monospace;font-weight: bold;display: inline-block;line-height: 1.2em;}#sk-container-id-11 div.sk-label-container {text-align: center;}#sk-container-id-11 div.sk-container {/* jupyter's `normalize.less` sets `[hidden] { display: none; }` but bootstrap.min.css set `[hidden] { display: none !important; }` so we also need the `!important` here to be able to override the default hidden behavior on the sphinx rendered scikit-learn.org. See: https://github.com/scikit-learn/scikit-learn/issues/21755 */display: inline-block !important;position: relative;}#sk-container-id-11 div.sk-text-repr-fallback {display: none;}</style><div id=\"sk-container-id-11\" class=\"sk-top-container\"><div class=\"sk-text-repr-fallback\"><pre>DecisionTreeClassifier(max_depth=200, random_state=42)</pre><b>In a Jupyter environment, please rerun this cell to show the HTML representation or trust the notebook. <br />On GitHub, the HTML representation is unable to render, please try loading this page with nbviewer.org.</b></div><div class=\"sk-container\" hidden><div class=\"sk-item\"><div class=\"sk-estimator sk-toggleable\"><input class=\"sk-toggleable__control sk-hidden--visually\" id=\"sk-estimator-id-11\" type=\"checkbox\" checked><label for=\"sk-estimator-id-11\" class=\"sk-toggleable__label sk-toggleable__label-arrow\">DecisionTreeClassifier</label><div class=\"sk-toggleable__content\"><pre>DecisionTreeClassifier(max_depth=200, random_state=42)</pre></div></div></div></div></div>"
      ],
      "text/plain": [
       "DecisionTreeClassifier(max_depth=200, random_state=42)"
      ]
     },
     "execution_count": 96,
     "metadata": {},
     "output_type": "execute_result"
    }
   ],
   "source": [
    "model_DT.fit(X_train, y_train)"
   ]
  },
  {
   "cell_type": "code",
   "execution_count": 97,
   "id": "0aa5816c",
   "metadata": {},
   "outputs": [],
   "source": [
    "y_pred_DT = model_DT.predict(X_test)"
   ]
  },
  {
   "cell_type": "code",
   "execution_count": 98,
   "id": "f844eb85",
   "metadata": {},
   "outputs": [
    {
     "data": {
      "text/plain": [
       "0.7737142857142857"
      ]
     },
     "execution_count": 98,
     "metadata": {},
     "output_type": "execute_result"
    }
   ],
   "source": [
    "accuracy_score(y_pred_DT, y_test)"
   ]
  },
  {
   "cell_type": "code",
   "execution_count": null,
   "id": "eade778e",
   "metadata": {},
   "outputs": [],
   "source": []
  }
 ],
 "metadata": {
  "kernelspec": {
   "display_name": "Python 3 (ipykernel)",
   "language": "python",
   "name": "python3"
  },
  "language_info": {
   "codemirror_mode": {
    "name": "ipython",
    "version": 3
   },
   "file_extension": ".py",
   "mimetype": "text/x-python",
   "name": "python",
   "nbconvert_exporter": "python",
   "pygments_lexer": "ipython3",
   "version": "3.11.3"
  }
 },
 "nbformat": 4,
 "nbformat_minor": 5
}

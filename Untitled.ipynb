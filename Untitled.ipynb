{
 "cells": [
  {
   "cell_type": "code",
   "execution_count": 1,
   "id": "aeb39ac2",
   "metadata": {},
   "outputs": [],
   "source": [
    "import numpy as np\n",
    "import pandas as pd\n",
    "from sklearn import preprocessing\n",
    "import matplotlib.pyplot as plt"
   ]
  },
  {
   "cell_type": "code",
   "execution_count": 2,
   "id": "2d7c7b9e",
   "metadata": {},
   "outputs": [],
   "source": [
    "import tensorflow as tf\n",
    "from tensorflow import keras\n",
    "from keras import Sequential\n",
    "from keras.layers import Dense,Conv2D,MaxPooling2D,Flatten"
   ]
  },
  {
   "cell_type": "code",
   "execution_count": 3,
   "id": "2ca4a8d0",
   "metadata": {},
   "outputs": [
    {
     "name": "stdout",
     "output_type": "stream",
     "text": [
      "Found 13250 files belonging to 25 classes.\n"
     ]
    }
   ],
   "source": [
    "train_ds = keras.utils.image_dataset_from_directory(\n",
    "    directory = 'train',\n",
    "    labels = 'inferred',\n",
    "    label_mode=\"int\",\n",
    "    batch_size=32,\n",
    "    image_size=(256, 256),\n",
    ")"
   ]
  },
  {
   "cell_type": "code",
   "execution_count": 4,
   "id": "b1a37c75",
   "metadata": {},
   "outputs": [
    {
     "name": "stdout",
     "output_type": "stream",
     "text": [
      "Found 1750 files belonging to 25 classes.\n"
     ]
    }
   ],
   "source": [
    "val_ds = keras.utils.image_dataset_from_directory(\n",
    "    directory = 'val',\n",
    "    labels = 'inferred',\n",
    "    label_mode=\"int\",\n",
    "    batch_size=32,\n",
    "    image_size=(256, 256),\n",
    ")"
   ]
  },
  {
   "cell_type": "code",
   "execution_count": 5,
   "id": "fe12456c",
   "metadata": {},
   "outputs": [],
   "source": [
    "def process(image,label):\n",
    "    image  = tf.cast(image/255.,tf.float32)\n",
    "    return image , label\n",
    "\n",
    "train_ds = train_ds.map(process)\n",
    "val_ds = val_ds.map(process)"
   ]
  },
  {
   "cell_type": "code",
   "execution_count": 6,
   "id": "93178bf9",
   "metadata": {},
   "outputs": [],
   "source": [
    "model = Sequential()\n",
    "\n",
    "model.add(Conv2D(64,kernel_size = (3,3),padding = 'valid',activation = 'relu',input_shape = (256,256,3)))\n",
    "model.add(MaxPooling2D(pool_size = (2,2),strides = 2, padding = 'valid'))\n",
    "\n",
    "model.add(Conv2D(32,kernel_size = (3,3),padding = 'valid',activation = 'relu'))\n",
    "model.add(MaxPooling2D(pool_size = (2,2),strides = 2, padding = 'valid'))\n",
    "\n",
    "model.add(Conv2D(32,kernel_size = (3,3),padding = 'valid',activation = 'relu'))\n",
    "model.add(MaxPooling2D(pool_size = (2,2),strides = 2, padding = 'valid'))\n",
    "\n",
    "model.add(Flatten())\n",
    "\n",
    "model.add(Dense(128, activation = 'relu'))\n",
    "model.add(Dense(64,activation = 'relu'))\n",
    "model.add(Dense(25,activation = 'softmax'))"
   ]
  },
  {
   "cell_type": "code",
   "execution_count": 7,
   "id": "b0162dad",
   "metadata": {},
   "outputs": [
    {
     "name": "stdout",
     "output_type": "stream",
     "text": [
      "Model: \"sequential\"\n",
      "_________________________________________________________________\n",
      " Layer (type)                Output Shape              Param #   \n",
      "=================================================================\n",
      " conv2d (Conv2D)             (None, 254, 254, 64)      1792      \n",
      "                                                                 \n",
      " max_pooling2d (MaxPooling2  (None, 127, 127, 64)      0         \n",
      " D)                                                              \n",
      "                                                                 \n",
      " conv2d_1 (Conv2D)           (None, 125, 125, 32)      18464     \n",
      "                                                                 \n",
      " max_pooling2d_1 (MaxPoolin  (None, 62, 62, 32)        0         \n",
      " g2D)                                                            \n",
      "                                                                 \n",
      " conv2d_2 (Conv2D)           (None, 60, 60, 32)        9248      \n",
      "                                                                 \n",
      " max_pooling2d_2 (MaxPoolin  (None, 30, 30, 32)        0         \n",
      " g2D)                                                            \n",
      "                                                                 \n",
      " flatten (Flatten)           (None, 28800)             0         \n",
      "                                                                 \n",
      " dense (Dense)               (None, 128)               3686528   \n",
      "                                                                 \n",
      " dense_1 (Dense)             (None, 64)                8256      \n",
      "                                                                 \n",
      " dense_2 (Dense)             (None, 25)                1625      \n",
      "                                                                 \n",
      "=================================================================\n",
      "Total params: 3725913 (14.21 MB)\n",
      "Trainable params: 3725913 (14.21 MB)\n",
      "Non-trainable params: 0 (0.00 Byte)\n",
      "_________________________________________________________________\n"
     ]
    }
   ],
   "source": [
    "model.summary()"
   ]
  },
  {
   "cell_type": "code",
   "execution_count": 8,
   "id": "1b629980",
   "metadata": {},
   "outputs": [],
   "source": [
    "model.compile(optimizer = 'adam',loss = 'sparse_categorical_crossentropy',metrics = ['accuracy'])"
   ]
  },
  {
   "cell_type": "code",
   "execution_count": 9,
   "id": "43459576",
   "metadata": {},
   "outputs": [
    {
     "name": "stdout",
     "output_type": "stream",
     "text": [
      "Epoch 1/30\n",
      "415/415 [==============================] - 512s 1s/step - loss: 2.3754 - accuracy: 0.2859 - val_loss: 0.4861 - val_accuracy: 0.8640\n",
      "Epoch 2/30\n",
      "415/415 [==============================] - 503s 1s/step - loss: 2.1836 - accuracy: 0.3285 - val_loss: 0.3774 - val_accuracy: 0.8766\n",
      "Epoch 3/30\n",
      "415/415 [==============================] - 503s 1s/step - loss: 2.1681 - accuracy: 0.3329 - val_loss: 0.3013 - val_accuracy: 0.9034\n",
      "Epoch 4/30\n",
      "415/415 [==============================] - 500s 1s/step - loss: 2.1444 - accuracy: 0.3419 - val_loss: 0.3821 - val_accuracy: 0.8897\n",
      "Epoch 5/30\n",
      "415/415 [==============================] - 502s 1s/step - loss: 2.1269 - accuracy: 0.3506 - val_loss: 0.3633 - val_accuracy: 0.8943\n",
      "Epoch 6/30\n",
      "415/415 [==============================] - 504s 1s/step - loss: 2.0917 - accuracy: 0.3654 - val_loss: 0.4916 - val_accuracy: 0.8863\n",
      "Epoch 7/30\n",
      "415/415 [==============================] - 503s 1s/step - loss: 2.0270 - accuracy: 0.3897 - val_loss: 0.5144 - val_accuracy: 0.8800\n",
      "Epoch 8/30\n",
      "415/415 [==============================] - 503s 1s/step - loss: 1.9060 - accuracy: 0.4331 - val_loss: 0.4630 - val_accuracy: 0.8880\n",
      "Epoch 9/30\n",
      "415/415 [==============================] - 504s 1s/step - loss: 1.6840 - accuracy: 0.5032 - val_loss: 0.6841 - val_accuracy: 0.9011\n",
      "Epoch 10/30\n",
      "415/415 [==============================] - 505s 1s/step - loss: 1.3723 - accuracy: 0.5942 - val_loss: 0.5926 - val_accuracy: 0.8989\n",
      "Epoch 11/30\n",
      "415/415 [==============================] - 505s 1s/step - loss: 1.0928 - accuracy: 0.6830 - val_loss: 0.5566 - val_accuracy: 0.8977\n",
      "Epoch 12/30\n",
      "415/415 [==============================] - 505s 1s/step - loss: 0.8596 - accuracy: 0.7536 - val_loss: 0.8147 - val_accuracy: 0.8869\n",
      "Epoch 13/30\n",
      "415/415 [==============================] - 508s 1s/step - loss: 0.6772 - accuracy: 0.8134 - val_loss: 0.7481 - val_accuracy: 0.9006\n",
      "Epoch 14/30\n",
      "415/415 [==============================] - 581s 1s/step - loss: 0.6029 - accuracy: 0.8376 - val_loss: 1.2203 - val_accuracy: 0.8737\n",
      "Epoch 15/30\n",
      "415/415 [==============================] - 2283s 6s/step - loss: 0.5130 - accuracy: 0.8623 - val_loss: 1.2376 - val_accuracy: 0.8897\n",
      "Epoch 16/30\n",
      "415/415 [==============================] - 42755s 103s/step - loss: 0.4474 - accuracy: 0.8839 - val_loss: 0.8676 - val_accuracy: 0.8834\n",
      "Epoch 17/30\n",
      "415/415 [==============================] - 656s 2s/step - loss: 0.4126 - accuracy: 0.8904 - val_loss: 0.8405 - val_accuracy: 0.8943\n",
      "Epoch 18/30\n",
      "415/415 [==============================] - 462s 1s/step - loss: 0.4024 - accuracy: 0.8954 - val_loss: 2.0674 - val_accuracy: 0.8389\n",
      "Epoch 19/30\n",
      "415/415 [==============================] - 461s 1s/step - loss: 0.3798 - accuracy: 0.9007 - val_loss: 0.9247 - val_accuracy: 0.8771\n",
      "Epoch 20/30\n",
      "415/415 [==============================] - 472s 1s/step - loss: 0.3815 - accuracy: 0.8967 - val_loss: 0.8917 - val_accuracy: 0.8903\n",
      "Epoch 21/30\n",
      "415/415 [==============================] - 464s 1s/step - loss: 0.3520 - accuracy: 0.9043 - val_loss: 0.8328 - val_accuracy: 0.8897\n",
      "Epoch 22/30\n",
      "415/415 [==============================] - 469s 1s/step - loss: 0.3474 - accuracy: 0.9076 - val_loss: 0.8218 - val_accuracy: 0.8983\n",
      "Epoch 23/30\n",
      "415/415 [==============================] - 469s 1s/step - loss: 0.3329 - accuracy: 0.9106 - val_loss: 0.8111 - val_accuracy: 0.9011\n",
      "Epoch 24/30\n",
      "415/415 [==============================] - 469s 1s/step - loss: 0.3350 - accuracy: 0.9061 - val_loss: 0.9701 - val_accuracy: 0.9011\n",
      "Epoch 25/30\n",
      "415/415 [==============================] - 467s 1s/step - loss: 0.3518 - accuracy: 0.9046 - val_loss: 1.0269 - val_accuracy: 0.8549\n",
      "Epoch 26/30\n",
      "415/415 [==============================] - 474s 1s/step - loss: 0.3202 - accuracy: 0.9118 - val_loss: 1.1419 - val_accuracy: 0.8811\n",
      "Epoch 27/30\n",
      "415/415 [==============================] - 472s 1s/step - loss: 0.3156 - accuracy: 0.9127 - val_loss: 1.1099 - val_accuracy: 0.8851\n",
      "Epoch 28/30\n",
      "415/415 [==============================] - 479s 1s/step - loss: 0.3044 - accuracy: 0.9146 - val_loss: 1.2151 - val_accuracy: 0.8869\n",
      "Epoch 29/30\n",
      "415/415 [==============================] - 494s 1s/step - loss: 0.3153 - accuracy: 0.9123 - val_loss: 1.1319 - val_accuracy: 0.8811\n",
      "Epoch 30/30\n",
      "415/415 [==============================] - 498s 1s/step - loss: 0.2945 - accuracy: 0.9150 - val_loss: 1.0531 - val_accuracy: 0.8914\n"
     ]
    }
   ],
   "source": [
    "history = model.fit(train_ds,epochs = 30, validation_data = val_ds)"
   ]
  },
  {
   "cell_type": "code",
   "execution_count": 11,
   "id": "43d5415a",
   "metadata": {},
   "outputs": [
    {
     "data": {
      "image/png": "[encoded data removed]",
      "text/plain": [
       "<Figure size 640x480 with 1 Axes>"
      ]
     },
     "metadata": {},
     "output_type": "display_data"
    }
   ],
   "source": [
    "plt.plot(history.history['accuracy'],color = 'red', label = 'train')\n",
    "plt.plot(history.history['val_accuracy'],color = 'blue', label = 'validation')\n",
    "plt.legend()\n",
    "plt.show()"
   ]
  },
  {
   "cell_type": "code",
   "execution_count": null,
   "id": "70d581ae",
   "metadata": {},
   "outputs": [],
   "source": [
    "  "
   ]
  }
 ],
 "metadata": {
  "kernelspec": {
   "display_name": "Python 3 (ipykernel)",
   "language": "python",
   "name": "python3"
  },
  "language_info": {
   "codemirror_mode": {
    "name": "ipython",
    "version": 3
   },
   "file_extension": ".py",
   "mimetype": "text/x-python",
   "name": "python",
   "nbconvert_exporter": "python",
   "pygments_lexer": "ipython3",
   "version": "3.11.3"
  }
 },
 "nbformat": 4,
 "nbformat_minor": 5
}
